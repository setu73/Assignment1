{
 "cells": [
  {
   "cell_type": "markdown",
   "id": "03db3277",
   "metadata": {},
   "source": [
    "# Ans1"
   ]
  },
  {
   "cell_type": "code",
   "execution_count": 1,
   "id": "d2407d32",
   "metadata": {},
   "outputs": [],
   "source": [
    "str=\"Hello\"\n",
    "l=[\"list\",4,3,0]\n",
    "x=0.34\n",
    "t=(3,6,7,2,\"tuple\")"
   ]
  },
  {
   "cell_type": "markdown",
   "id": "7b1a856c",
   "metadata": {},
   "source": [
    "# Ans2\n",
    "\n"
   ]
  },
  {
   "cell_type": "markdown",
   "id": "50f7f310",
   "metadata": {},
   "source": [
    "(i)str\n",
    "(ii)str\n",
    "(iii)list\n",
    "(iv)int"
   ]
  },
  {
   "cell_type": "markdown",
   "id": "84ef7cae",
   "metadata": {},
   "source": [
    "# Ans3"
   ]
  },
  {
   "cell_type": "markdown",
   "id": "a8e49691",
   "metadata": {},
   "source": [
    "(i)The / operator performs division between two numbers and returns a float as the result."
   ]
  },
  {
   "cell_type": "markdown",
   "id": "01d530c4",
   "metadata": {},
   "source": [
    "(ii)The % operator calculates the remainder of the division between two numbers."
   ]
  },
  {
   "cell_type": "markdown",
   "id": "6b757060",
   "metadata": {},
   "source": [
    "(iii)The // operator performs floor division between two numbers and returns the largest integer less than or equal to the division result."
   ]
  },
  {
   "cell_type": "markdown",
   "id": "c46535c5",
   "metadata": {},
   "source": [
    "(iv)The ** operator raises a number to the power of another number.It calculates the exponentiation or the result of the power operation."
   ]
  },
  {
   "cell_type": "markdown",
   "id": "f17c5d57",
   "metadata": {},
   "source": [
    "# Ans4"
   ]
  },
  {
   "cell_type": "code",
   "execution_count": 2,
   "id": "b405d820",
   "metadata": {},
   "outputs": [
    {
     "name": "stdout",
     "output_type": "stream",
     "text": [
      "90\n",
      "<class 'int'>\n",
      "57\n",
      "<class 'int'>\n",
      "hello\n",
      "<class 'str'>\n",
      "list\n",
      "<class 'str'>\n",
      "55\n",
      "<class 'int'>\n",
      "22\n",
      "<class 'int'>\n",
      "c\n",
      "<class 'str'>\n",
      "99\n",
      "<class 'int'>\n",
      "100\n",
      "<class 'int'>\n",
      "world\n",
      "<class 'str'>\n"
     ]
    }
   ],
   "source": [
    "list1=[90,57,\"hello\",\"list\",55,22,'c',99,100,\"world\"]\n",
    "for items in list1:\n",
    "    print(items)\n",
    "    print(type(items))"
   ]
  },
  {
   "cell_type": "markdown",
   "id": "d3a56350",
   "metadata": {},
   "source": [
    "# Ans5"
   ]
  },
  {
   "cell_type": "code",
   "execution_count": 3,
   "id": "817b6529",
   "metadata": {},
   "outputs": [
    {
     "name": "stdout",
     "output_type": "stream",
     "text": [
      "No of times A is purely divisible by B is  2\n"
     ]
    }
   ],
   "source": [
    "A=100\n",
    "B=5\n",
    "count=0\n",
    "while A%B==0:\n",
    "    A=A/B\n",
    "    count=count+1\n",
    "print(\"No of times A is purely divisible by B is \",count)    "
   ]
  },
  {
   "cell_type": "markdown",
   "id": "b6ec72b5",
   "metadata": {},
   "source": [
    "# Ans 6 "
   ]
  },
  {
   "cell_type": "code",
   "execution_count": 4,
   "id": "ff54885f",
   "metadata": {},
   "outputs": [
    {
     "name": "stdout",
     "output_type": "stream",
     "text": [
      "[71, 60, 49, 2, 94, 52, 67, 47, 52, 45, 95, 98, 97, 54, 59, 27, 76, 50, 72, 85, 55, 44, 25, 15, 86]\n",
      "71 is not divisble by 3\n",
      "60 is divisible by 3\n",
      "49 is not divisble by 3\n",
      "2 is not divisble by 3\n",
      "94 is not divisble by 3\n",
      "52 is not divisble by 3\n",
      "67 is not divisble by 3\n",
      "47 is not divisble by 3\n",
      "52 is not divisble by 3\n",
      "45 is divisible by 3\n",
      "95 is not divisble by 3\n",
      "98 is not divisble by 3\n",
      "97 is not divisble by 3\n",
      "54 is divisible by 3\n",
      "59 is not divisble by 3\n",
      "27 is divisible by 3\n",
      "76 is not divisble by 3\n",
      "50 is not divisble by 3\n",
      "72 is divisible by 3\n",
      "85 is not divisble by 3\n",
      "55 is not divisble by 3\n",
      "44 is not divisble by 3\n",
      "25 is not divisble by 3\n",
      "15 is divisible by 3\n",
      "86 is not divisble by 3\n"
     ]
    }
   ],
   "source": [
    "import random\n",
    "\n",
    "rand_list = [random.randint(1, 100) for _ in range(25)]\n",
    "print(rand_list)\n",
    "\n",
    "for items in rand_list:\n",
    "    if(items%3==0):\n",
    "        print(f\"{items} is divisible by 3\")\n",
    "    else:\n",
    "        print(f\"{items} is not divisble by 3\")"
   ]
  },
  {
   "cell_type": "markdown",
   "id": "856bfb20",
   "metadata": {},
   "source": [
    "# Ans7"
   ]
  },
  {
   "cell_type": "markdown",
   "id": "d33d4759",
   "metadata": {},
   "source": [
    "Mutable data types are those whose values can be modified after they are created.Examples are lists, dictionaries etc"
   ]
  },
  {
   "cell_type": "code",
   "execution_count": 5,
   "id": "2e9bbcb8",
   "metadata": {},
   "outputs": [
    {
     "name": "stdout",
     "output_type": "stream",
     "text": [
      "[1, 4, 3, 2, 88]\n"
     ]
    }
   ],
   "source": [
    "mut=[5,4,3,2]\n",
    "mut[0]=1\n",
    "mut.append(88)\n",
    "print(mut)"
   ]
  },
  {
   "cell_type": "markdown",
   "id": "d57f98e6",
   "metadata": {},
   "source": [
    "Immutable data types are those whose values cannot be modified after they are created.Examples are tuples,strings etc"
   ]
  },
  {
   "cell_type": "code",
   "execution_count": 6,
   "id": "9e61dac0",
   "metadata": {},
   "outputs": [
    {
     "ename": "TypeError",
     "evalue": "'str' object does not support item assignment",
     "output_type": "error",
     "traceback": [
      "\u001b[1;31m---------------------------------------------------------------------------\u001b[0m",
      "\u001b[1;31mTypeError\u001b[0m                                 Traceback (most recent call last)",
      "Cell \u001b[1;32mIn[6], line 2\u001b[0m\n\u001b[0;32m      1\u001b[0m \u001b[38;5;28mstr\u001b[39m\u001b[38;5;241m=\u001b[39m\u001b[38;5;124m\"\u001b[39m\u001b[38;5;124mhello\u001b[39m\u001b[38;5;124m\"\u001b[39m\n\u001b[1;32m----> 2\u001b[0m \u001b[38;5;28;43mstr\u001b[39;49m\u001b[43m[\u001b[49m\u001b[38;5;241;43m2\u001b[39;49m\u001b[43m]\u001b[49m\u001b[38;5;241m=\u001b[39m\u001b[38;5;124m'\u001b[39m\u001b[38;5;124mr\u001b[39m\u001b[38;5;124m'\u001b[39m\n\u001b[0;32m      3\u001b[0m \u001b[38;5;28mprint\u001b[39m(\u001b[38;5;28mstr\u001b[39m)\n",
      "\u001b[1;31mTypeError\u001b[0m: 'str' object does not support item assignment"
     ]
    }
   ],
   "source": [
    "str=\"hello\"\n",
    "str[2]='r'\n",
    "print(str)"
   ]
  },
  {
   "cell_type": "markdown",
   "id": "e4fb7fe9",
   "metadata": {},
   "source": [
    "Here we are trying to assign string literal to a different value.since string data type is immutable so there is error."
   ]
  }
 ],
 "metadata": {
  "kernelspec": {
   "display_name": "Python 3 (ipykernel)",
   "language": "python",
   "name": "python3"
  },
  "language_info": {
   "codemirror_mode": {
    "name": "ipython",
    "version": 3
   },
   "file_extension": ".py",
   "mimetype": "text/x-python",
   "name": "python",
   "nbconvert_exporter": "python",
   "pygments_lexer": "ipython3",
   "version": "3.11.2"
  }
 },
 "nbformat": 4,
 "nbformat_minor": 5
}
